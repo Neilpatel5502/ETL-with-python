{
 "cells": [
  {
   "cell_type": "code",
   "execution_count": 3,
   "metadata": {},
   "outputs": [
    {
     "name": "stdout",
     "output_type": "stream",
     "text": [
      "Lorem Ipsum is simply dummy text of the printing and typesetting industry. Lorem Ipsum has been the industry's standard dummy text ever since the 1500s, when an unknown printer took a galley of type and scrambled it to make a type specimen book. It has survived not only five centuries, but also the leap into electronic typesetting, remaining essentially unchanged. It was popularised in the 1960s with the release of Letraset sheets containing Lorem Ipsum passages, and more recently with desktop publishing software like Aldus PageMaker including versions of Lorem Ipsum.\n"
     ]
    }
   ],
   "source": [
    "#Extract\n",
    "\n",
    "with open('C:/data source/IN2.txt') as f:\n",
    "    contant = f.read()\n",
    "    print(contant)"
   ]
  },
  {
   "cell_type": "code",
   "execution_count": 4,
   "metadata": {},
   "outputs": [],
   "source": [
    "#Transformation\n",
    "\n",
    "import re\n",
    "\n",
    "f = \"C:/data source/IN2.txt\"\n",
    "words = re.findall(r'\\w+', open(f, 'r').read().lower())"
   ]
  },
  {
   "cell_type": "code",
   "execution_count": 5,
   "metadata": {},
   "outputs": [
    {
     "data": {
      "text/html": [
       "<div>\n",
       "<style scoped>\n",
       "    .dataframe tbody tr th:only-of-type {\n",
       "        vertical-align: middle;\n",
       "    }\n",
       "\n",
       "    .dataframe tbody tr th {\n",
       "        vertical-align: top;\n",
       "    }\n",
       "\n",
       "    .dataframe thead th {\n",
       "        text-align: right;\n",
       "    }\n",
       "</style>\n",
       "<table border=\"1\" class=\"dataframe\">\n",
       "  <thead>\n",
       "    <tr style=\"text-align: right;\">\n",
       "      <th></th>\n",
       "      <th>Word</th>\n",
       "      <th>Freq</th>\n",
       "    </tr>\n",
       "  </thead>\n",
       "  <tbody>\n",
       "    <tr>\n",
       "      <th>0</th>\n",
       "      <td>lorem</td>\n",
       "      <td>4</td>\n",
       "    </tr>\n",
       "    <tr>\n",
       "      <th>1</th>\n",
       "      <td>ipsum</td>\n",
       "      <td>4</td>\n",
       "    </tr>\n",
       "    <tr>\n",
       "      <th>2</th>\n",
       "      <td>is</td>\n",
       "      <td>1</td>\n",
       "    </tr>\n",
       "    <tr>\n",
       "      <th>3</th>\n",
       "      <td>simply</td>\n",
       "      <td>1</td>\n",
       "    </tr>\n",
       "    <tr>\n",
       "      <th>4</th>\n",
       "      <td>dummy</td>\n",
       "      <td>2</td>\n",
       "    </tr>\n",
       "    <tr>\n",
       "      <th>...</th>\n",
       "      <td>...</td>\n",
       "      <td>...</td>\n",
       "    </tr>\n",
       "    <tr>\n",
       "      <th>61</th>\n",
       "      <td>like</td>\n",
       "      <td>1</td>\n",
       "    </tr>\n",
       "    <tr>\n",
       "      <th>62</th>\n",
       "      <td>aldus</td>\n",
       "      <td>1</td>\n",
       "    </tr>\n",
       "    <tr>\n",
       "      <th>63</th>\n",
       "      <td>pagemaker</td>\n",
       "      <td>1</td>\n",
       "    </tr>\n",
       "    <tr>\n",
       "      <th>64</th>\n",
       "      <td>including</td>\n",
       "      <td>1</td>\n",
       "    </tr>\n",
       "    <tr>\n",
       "      <th>65</th>\n",
       "      <td>versions</td>\n",
       "      <td>1</td>\n",
       "    </tr>\n",
       "  </tbody>\n",
       "</table>\n",
       "<p>66 rows × 2 columns</p>\n",
       "</div>"
      ],
      "text/plain": [
       "         Word  Freq\n",
       "0       lorem     4\n",
       "1       ipsum     4\n",
       "2          is     1\n",
       "3      simply     1\n",
       "4       dummy     2\n",
       "..        ...   ...\n",
       "61       like     1\n",
       "62      aldus     1\n",
       "63  pagemaker     1\n",
       "64  including     1\n",
       "65   versions     1\n",
       "\n",
       "[66 rows x 2 columns]"
      ]
     },
     "execution_count": 5,
     "metadata": {},
     "output_type": "execute_result"
    }
   ],
   "source": [
    "from collections import Counter\n",
    "import pandas as pd\n",
    "\n",
    "counts = dict(Counter(words))\n",
    "\n",
    "word = []\n",
    "freq = []\n",
    "for w in counts.keys():\n",
    "    word.append(w)\n",
    "for f in counts.values():\n",
    "    freq.append(f)\n",
    "    \n",
    "data = {'Word': word, 'Freq': freq}\n",
    "df = pd.DataFrame.from_dict(data)\n",
    "df"
   ]
  },
  {
   "cell_type": "code",
   "execution_count": 7,
   "metadata": {},
   "outputs": [
    {
     "name": "stdout",
     "output_type": "stream",
     "text": [
      "hello: 2\n",
      "world: 4\n"
     ]
    }
   ],
   "source": [
    "with open('D:/Target2.txt', 'r') as f:\n",
    "    reader = f.read()\n",
    "    print(reader)"
   ]
  },
  {
   "cell_type": "code",
   "execution_count": 8,
   "metadata": {},
   "outputs": [
    {
     "name": "stdout",
     "output_type": "stream",
     "text": [
      "hello: 2\n",
      "world: 4\n",
      "lorem: 4\n",
      "ipsum: 4\n",
      "is: 1\n",
      "simply: 1\n",
      "dummy: 2\n",
      "text: 2\n",
      "of: 4\n",
      "the: 6\n",
      "printing: 1\n",
      "and: 3\n",
      "typesetting: 2\n",
      "industry: 2\n",
      "has: 2\n",
      "been: 1\n",
      "s: 1\n",
      "standard: 1\n",
      "ever: 1\n",
      "since: 1\n",
      "1500s: 1\n",
      "when: 1\n",
      "an: 1\n",
      "unknown: 1\n",
      "printer: 1\n",
      "took: 1\n",
      "a: 2\n",
      "galley: 1\n",
      "type: 2\n",
      "scrambled: 1\n",
      "it: 3\n",
      "to: 1\n",
      "make: 1\n",
      "specimen: 1\n",
      "book: 1\n",
      "survived: 1\n",
      "not: 1\n",
      "only: 1\n",
      "five: 1\n",
      "centuries: 1\n",
      "but: 1\n",
      "also: 1\n",
      "leap: 1\n",
      "into: 1\n",
      "electronic: 1\n",
      "remaining: 1\n",
      "essentially: 1\n",
      "unchanged: 1\n",
      "was: 1\n",
      "popularised: 1\n",
      "in: 1\n",
      "1960s: 1\n",
      "with: 2\n",
      "release: 1\n",
      "letraset: 1\n",
      "sheets: 1\n",
      "containing: 1\n",
      "passages: 1\n",
      "more: 1\n",
      "recently: 1\n",
      "desktop: 1\n",
      "publishing: 1\n",
      "software: 1\n",
      "like: 1\n",
      "aldus: 1\n",
      "pagemaker: 1\n",
      "including: 1\n",
      "versions: 1\n",
      "\n"
     ]
    }
   ],
   "source": [
    "#Load\n",
    "\n",
    "with open('D:/Target2.txt', 'a') as f:\n",
    "    f.write('\\n')\n",
    "    for i in df.index:\n",
    "        f.write(df['Word'][i]+': '+str(df['Freq'][i])+'\\n')\n",
    "        \n",
    "with open('D:/Target2.txt', 'r') as f:\n",
    "    output = f.read()\n",
    "    print(output)"
   ]
  },
  {
   "cell_type": "code",
   "execution_count": null,
   "metadata": {},
   "outputs": [],
   "source": []
  }
 ],
 "metadata": {
  "kernelspec": {
   "display_name": "Python 3",
   "language": "python",
   "name": "python3"
  },
  "language_info": {
   "codemirror_mode": {
    "name": "ipython",
    "version": 3
   },
   "file_extension": ".py",
   "mimetype": "text/x-python",
   "name": "python",
   "nbconvert_exporter": "python",
   "pygments_lexer": "ipython3",
   "version": "3.8.3"
  }
 },
 "nbformat": 4,
 "nbformat_minor": 4
}
